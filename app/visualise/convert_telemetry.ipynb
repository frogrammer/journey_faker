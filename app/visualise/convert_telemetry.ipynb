{
 "cells": [
  {
   "cell_type": "code",
   "execution_count": 2,
   "metadata": {},
   "outputs": [
    {
     "name": "stdout",
     "output_type": "stream",
     "text": [
      "Defaulting to user installation because normal site-packages is not writeable\n",
      "Requirement already satisfied: aiohttp in /home/vscode/.local/lib/python3.10/site-packages (from -r ../../requirements.txt (line 1)) (3.8.1)\n",
      "Requirement already satisfied: contextily in /home/vscode/.local/lib/python3.10/site-packages (from -r ../../requirements.txt (line 2)) (1.2.0)\n",
      "Requirement already satisfied: faker in /home/vscode/.local/lib/python3.10/site-packages (from -r ../../requirements.txt (line 3)) (13.16.0)\n",
      "Requirement already satisfied: faker-wifi-essid in /home/vscode/.local/lib/python3.10/site-packages (from -r ../../requirements.txt (line 4)) (0.4.1)\n",
      "Requirement already satisfied: geopandas in /home/vscode/.local/lib/python3.10/site-packages (from -r ../../requirements.txt (line 5)) (0.11.1)\n",
      "Requirement already satisfied: haversine in /home/vscode/.local/lib/python3.10/site-packages (from -r ../../requirements.txt (line 6)) (2.7.0)\n",
      "Requirement already satisfied: matplotlib in /home/vscode/.local/lib/python3.10/site-packages (from -r ../../requirements.txt (line 7)) (3.5.3)\n",
      "Requirement already satisfied: python-dotenv in /home/vscode/.local/lib/python3.10/site-packages (from -r ../../requirements.txt (line 8)) (0.21.0)\n",
      "Requirement already satisfied: aiosignal>=1.1.2 in /home/vscode/.local/lib/python3.10/site-packages (from aiohttp->-r ../../requirements.txt (line 1)) (1.2.0)\n",
      "Requirement already satisfied: multidict<7.0,>=4.5 in /home/vscode/.local/lib/python3.10/site-packages (from aiohttp->-r ../../requirements.txt (line 1)) (6.0.2)\n",
      "Requirement already satisfied: frozenlist>=1.1.1 in /home/vscode/.local/lib/python3.10/site-packages (from aiohttp->-r ../../requirements.txt (line 1)) (1.3.1)\n",
      "Requirement already satisfied: yarl<2.0,>=1.0 in /home/vscode/.local/lib/python3.10/site-packages (from aiohttp->-r ../../requirements.txt (line 1)) (1.8.1)\n",
      "Requirement already satisfied: async-timeout<5.0,>=4.0.0a3 in /home/vscode/.local/lib/python3.10/site-packages (from aiohttp->-r ../../requirements.txt (line 1)) (4.0.2)\n",
      "Requirement already satisfied: charset-normalizer<3.0,>=2.0 in /home/vscode/.local/lib/python3.10/site-packages (from aiohttp->-r ../../requirements.txt (line 1)) (2.1.1)\n",
      "Requirement already satisfied: attrs>=17.3.0 in /home/vscode/.local/lib/python3.10/site-packages (from aiohttp->-r ../../requirements.txt (line 1)) (22.1.0)\n",
      "Requirement already satisfied: requests in /home/vscode/.local/lib/python3.10/site-packages (from contextily->-r ../../requirements.txt (line 2)) (2.28.1)\n",
      "Requirement already satisfied: mercantile in /home/vscode/.local/lib/python3.10/site-packages (from contextily->-r ../../requirements.txt (line 2)) (1.2.1)\n",
      "Requirement already satisfied: xyzservices in /home/vscode/.local/lib/python3.10/site-packages (from contextily->-r ../../requirements.txt (line 2)) (2022.6.0)\n",
      "Requirement already satisfied: rasterio in /home/vscode/.local/lib/python3.10/site-packages (from contextily->-r ../../requirements.txt (line 2)) (1.3.2)\n",
      "Requirement already satisfied: geopy in /home/vscode/.local/lib/python3.10/site-packages (from contextily->-r ../../requirements.txt (line 2)) (2.2.0)\n",
      "Requirement already satisfied: joblib in /home/vscode/.local/lib/python3.10/site-packages (from contextily->-r ../../requirements.txt (line 2)) (1.1.0)\n",
      "Requirement already satisfied: pillow in /home/vscode/.local/lib/python3.10/site-packages (from contextily->-r ../../requirements.txt (line 2)) (9.2.0)\n",
      "Requirement already satisfied: python-dateutil>=2.4 in /home/vscode/.local/lib/python3.10/site-packages (from faker->-r ../../requirements.txt (line 3)) (2.8.2)\n",
      "Requirement already satisfied: pandas>=1.0.0 in /home/vscode/.local/lib/python3.10/site-packages (from geopandas->-r ../../requirements.txt (line 5)) (1.4.4)\n",
      "Requirement already satisfied: packaging in /home/vscode/.local/lib/python3.10/site-packages (from geopandas->-r ../../requirements.txt (line 5)) (21.3)\n",
      "Requirement already satisfied: shapely<2,>=1.7 in /home/vscode/.local/lib/python3.10/site-packages (from geopandas->-r ../../requirements.txt (line 5)) (1.8.4)\n",
      "Requirement already satisfied: fiona>=1.8 in /home/vscode/.local/lib/python3.10/site-packages (from geopandas->-r ../../requirements.txt (line 5)) (1.8.21)\n",
      "Requirement already satisfied: pyproj>=2.6.1.post1 in /home/vscode/.local/lib/python3.10/site-packages (from geopandas->-r ../../requirements.txt (line 5)) (3.4.0)\n",
      "Requirement already satisfied: cycler>=0.10 in /home/vscode/.local/lib/python3.10/site-packages (from matplotlib->-r ../../requirements.txt (line 7)) (0.11.0)\n",
      "Requirement already satisfied: fonttools>=4.22.0 in /home/vscode/.local/lib/python3.10/site-packages (from matplotlib->-r ../../requirements.txt (line 7)) (4.37.2)\n",
      "Requirement already satisfied: pyparsing>=2.2.1 in /home/vscode/.local/lib/python3.10/site-packages (from matplotlib->-r ../../requirements.txt (line 7)) (3.0.9)\n",
      "Requirement already satisfied: numpy>=1.17 in /home/vscode/.local/lib/python3.10/site-packages (from matplotlib->-r ../../requirements.txt (line 7)) (1.23.3)\n",
      "Requirement already satisfied: kiwisolver>=1.0.1 in /home/vscode/.local/lib/python3.10/site-packages (from matplotlib->-r ../../requirements.txt (line 7)) (1.4.4)\n",
      "Requirement already satisfied: cligj>=0.5 in /home/vscode/.local/lib/python3.10/site-packages (from fiona>=1.8->geopandas->-r ../../requirements.txt (line 5)) (0.7.2)\n",
      "Requirement already satisfied: click-plugins>=1.0 in /home/vscode/.local/lib/python3.10/site-packages (from fiona>=1.8->geopandas->-r ../../requirements.txt (line 5)) (1.1.1)\n",
      "Requirement already satisfied: certifi in /home/vscode/.local/lib/python3.10/site-packages (from fiona>=1.8->geopandas->-r ../../requirements.txt (line 5)) (2022.9.14)\n",
      "Requirement already satisfied: munch in /home/vscode/.local/lib/python3.10/site-packages (from fiona>=1.8->geopandas->-r ../../requirements.txt (line 5)) (2.5.0)\n",
      "Requirement already satisfied: click>=4.0 in /home/vscode/.local/lib/python3.10/site-packages (from fiona>=1.8->geopandas->-r ../../requirements.txt (line 5)) (8.1.3)\n",
      "Requirement already satisfied: six>=1.7 in /home/vscode/.local/lib/python3.10/site-packages (from fiona>=1.8->geopandas->-r ../../requirements.txt (line 5)) (1.16.0)\n",
      "Requirement already satisfied: setuptools in /usr/local/lib/python3.10/site-packages (from fiona>=1.8->geopandas->-r ../../requirements.txt (line 5)) (63.2.0)\n",
      "Requirement already satisfied: pytz>=2020.1 in /home/vscode/.local/lib/python3.10/site-packages (from pandas>=1.0.0->geopandas->-r ../../requirements.txt (line 5)) (2022.2.1)\n",
      "Requirement already satisfied: idna>=2.0 in /home/vscode/.local/lib/python3.10/site-packages (from yarl<2.0,>=1.0->aiohttp->-r ../../requirements.txt (line 1)) (3.4)\n",
      "Requirement already satisfied: geographiclib<2,>=1.49 in /home/vscode/.local/lib/python3.10/site-packages (from geopy->contextily->-r ../../requirements.txt (line 2)) (1.52)\n",
      "Requirement already satisfied: snuggs>=1.4.1 in /home/vscode/.local/lib/python3.10/site-packages (from rasterio->contextily->-r ../../requirements.txt (line 2)) (1.4.7)\n",
      "Requirement already satisfied: affine in /home/vscode/.local/lib/python3.10/site-packages (from rasterio->contextily->-r ../../requirements.txt (line 2)) (2.3.1)\n",
      "Requirement already satisfied: urllib3<1.27,>=1.21.1 in /home/vscode/.local/lib/python3.10/site-packages (from requests->contextily->-r ../../requirements.txt (line 2)) (1.26.12)\n",
      "\n",
      "\u001b[1m[\u001b[0m\u001b[34;49mnotice\u001b[0m\u001b[1;39;49m]\u001b[0m\u001b[39;49m A new release of pip available: \u001b[0m\u001b[31;49m22.2.1\u001b[0m\u001b[39;49m -> \u001b[0m\u001b[32;49m22.2.2\u001b[0m\n",
      "\u001b[1m[\u001b[0m\u001b[34;49mnotice\u001b[0m\u001b[1;39;49m]\u001b[0m\u001b[39;49m To update, run: \u001b[0m\u001b[32;49mpip install --upgrade pip\u001b[0m\n",
      "Note: you may need to restart the kernel to use updated packages.\n"
     ]
    }
   ],
   "source": [
    "%pip install -r ../../requirements.txt"
   ]
  },
  {
   "cell_type": "code",
   "execution_count": 3,
   "metadata": {},
   "outputs": [],
   "source": [
    "import geopandas as gpd\n",
    "import pandas as pd"
   ]
  },
  {
   "cell_type": "code",
   "execution_count": 4,
   "metadata": {},
   "outputs": [],
   "source": [
    "telemetry_df = pd.read_csv('../../telemetry/telemetry.csv')\n"
   ]
  },
  {
   "cell_type": "code",
   "execution_count": 5,
   "metadata": {},
   "outputs": [
    {
     "ename": "ValueError",
     "evalue": "The truth value of a Series is ambiguous. Use a.empty, a.bool(), a.item(), a.any() or a.all().",
     "output_type": "error",
     "traceback": [
      "\u001b[0;31m---------------------------------------------------------------------------\u001b[0m",
      "\u001b[0;31mValueError\u001b[0m                                Traceback (most recent call last)",
      "Cell \u001b[0;32mIn [5], line 9\u001b[0m\n\u001b[1;32m      7\u001b[0m \u001b[39mfor\u001b[39;00m t \u001b[39min\u001b[39;00m \u001b[39mrange\u001b[39m(min_time, max_time):\n\u001b[1;32m      8\u001b[0m     q \u001b[39m=\u001b[39m subset_df[subset_df[\u001b[39m'\u001b[39m\u001b[39mtime\u001b[39m\u001b[39m'\u001b[39m] \u001b[39m==\u001b[39m t]\n\u001b[0;32m----> 9\u001b[0m     \u001b[39mif\u001b[39;00m q\u001b[39m.\u001b[39mcount() \u001b[39m==\u001b[39m \u001b[39m0\u001b[39m:\n\u001b[1;32m     10\u001b[0m         curr_row[\u001b[39m'\u001b[39m\u001b[39mtime\u001b[39m\u001b[39m'\u001b[39m] \u001b[39m=\u001b[39m t\n\u001b[1;32m     11\u001b[0m         telemetry_df\u001b[39m.\u001b[39mappend(curr_row)\n",
      "File \u001b[0;32m~/.local/lib/python3.10/site-packages/pandas/core/generic.py:1527\u001b[0m, in \u001b[0;36mNDFrame.__nonzero__\u001b[0;34m(self)\u001b[0m\n\u001b[1;32m   1525\u001b[0m \u001b[39m@final\u001b[39m\n\u001b[1;32m   1526\u001b[0m \u001b[39mdef\u001b[39;00m \u001b[39m__nonzero__\u001b[39m(\u001b[39mself\u001b[39m):\n\u001b[0;32m-> 1527\u001b[0m     \u001b[39mraise\u001b[39;00m \u001b[39mValueError\u001b[39;00m(\n\u001b[1;32m   1528\u001b[0m         \u001b[39mf\u001b[39m\u001b[39m\"\u001b[39m\u001b[39mThe truth value of a \u001b[39m\u001b[39m{\u001b[39;00m\u001b[39mtype\u001b[39m(\u001b[39mself\u001b[39m)\u001b[39m.\u001b[39m\u001b[39m__name__\u001b[39m\u001b[39m}\u001b[39;00m\u001b[39m is ambiguous. \u001b[39m\u001b[39m\"\u001b[39m\n\u001b[1;32m   1529\u001b[0m         \u001b[39m\"\u001b[39m\u001b[39mUse a.empty, a.bool(), a.item(), a.any() or a.all().\u001b[39m\u001b[39m\"\u001b[39m\n\u001b[1;32m   1530\u001b[0m     )\n",
      "\u001b[0;31mValueError\u001b[0m: The truth value of a Series is ambiguous. Use a.empty, a.bool(), a.item(), a.any() or a.all()."
     ]
    }
   ],
   "source": [
    "ids = telemetry_df['id'].unique()\n",
    "for id in ids:\n",
    "    subset_df = telemetry_df[telemetry_df['id'] == id]\n",
    "    min_time = subset_df['time'].min()\n",
    "    max_time = subset_df['time'].max()\n",
    "    curr_row = subset_df[subset_df['time'] == min_time].iloc[0]\n",
    "    for t in range(min_time, max_time):\n",
    "        q = subset_df[subset_df['time'] == t]\n",
    "        if q['time'].count() == 0:\n",
    "            curr_row['time'] = t\n",
    "            telemetry_df.append(curr_row)\n",
    "        else:\n",
    "            curr_row = q.iloc[0]"
   ]
  }
 ],
 "metadata": {
  "kernelspec": {
   "display_name": "Python 3.10.6 64-bit",
   "language": "python",
   "name": "python3"
  },
  "language_info": {
   "codemirror_mode": {
    "name": "ipython",
    "version": 3
   },
   "file_extension": ".py",
   "mimetype": "text/x-python",
   "name": "python",
   "nbconvert_exporter": "python",
   "pygments_lexer": "ipython3",
   "version": "3.10.6"
  },
  "orig_nbformat": 4,
  "vscode": {
   "interpreter": {
    "hash": "949777d72b0d2535278d3dc13498b2535136f6dfe0678499012e853ee9abcab1"
   }
  }
 },
 "nbformat": 4,
 "nbformat_minor": 2
}
