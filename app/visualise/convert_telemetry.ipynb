{
 "cells": [
  {
   "cell_type": "code",
   "execution_count": 15,
   "metadata": {},
   "outputs": [
    {
     "name": "stdout",
     "output_type": "stream",
     "text": [
      "Defaulting to user installation because normal site-packages is not writeable\n",
      "Requirement already satisfied: aiohttp in /home/vscode/.local/lib/python3.10/site-packages (from -r ../../requirements.txt (line 1)) (3.8.1)\n",
      "Requirement already satisfied: contextily in /home/vscode/.local/lib/python3.10/site-packages (from -r ../../requirements.txt (line 2)) (1.2.0)\n",
      "Requirement already satisfied: faker in /home/vscode/.local/lib/python3.10/site-packages (from -r ../../requirements.txt (line 3)) (13.16.0)\n",
      "Requirement already satisfied: faker-wifi-essid in /home/vscode/.local/lib/python3.10/site-packages (from -r ../../requirements.txt (line 4)) (0.4.1)\n",
      "Requirement already satisfied: geopandas in /home/vscode/.local/lib/python3.10/site-packages (from -r ../../requirements.txt (line 5)) (0.11.1)\n",
      "Requirement already satisfied: haversine in /home/vscode/.local/lib/python3.10/site-packages (from -r ../../requirements.txt (line 6)) (2.7.0)\n",
      "Requirement already satisfied: matplotlib in /home/vscode/.local/lib/python3.10/site-packages (from -r ../../requirements.txt (line 7)) (3.5.3)\n",
      "Requirement already satisfied: python-dotenv in /home/vscode/.local/lib/python3.10/site-packages (from -r ../../requirements.txt (line 8)) (0.21.0)\n",
      "Requirement already satisfied: async-timeout<5.0,>=4.0.0a3 in /home/vscode/.local/lib/python3.10/site-packages (from aiohttp->-r ../../requirements.txt (line 1)) (4.0.2)\n",
      "Requirement already satisfied: attrs>=17.3.0 in /home/vscode/.local/lib/python3.10/site-packages (from aiohttp->-r ../../requirements.txt (line 1)) (22.1.0)\n",
      "Requirement already satisfied: frozenlist>=1.1.1 in /home/vscode/.local/lib/python3.10/site-packages (from aiohttp->-r ../../requirements.txt (line 1)) (1.3.1)\n",
      "Requirement already satisfied: charset-normalizer<3.0,>=2.0 in /home/vscode/.local/lib/python3.10/site-packages (from aiohttp->-r ../../requirements.txt (line 1)) (2.1.1)\n",
      "Requirement already satisfied: aiosignal>=1.1.2 in /home/vscode/.local/lib/python3.10/site-packages (from aiohttp->-r ../../requirements.txt (line 1)) (1.2.0)\n",
      "Requirement already satisfied: yarl<2.0,>=1.0 in /home/vscode/.local/lib/python3.10/site-packages (from aiohttp->-r ../../requirements.txt (line 1)) (1.8.1)\n",
      "Requirement already satisfied: multidict<7.0,>=4.5 in /home/vscode/.local/lib/python3.10/site-packages (from aiohttp->-r ../../requirements.txt (line 1)) (6.0.2)\n",
      "Requirement already satisfied: pillow in /home/vscode/.local/lib/python3.10/site-packages (from contextily->-r ../../requirements.txt (line 2)) (9.2.0)\n",
      "Requirement already satisfied: geopy in /home/vscode/.local/lib/python3.10/site-packages (from contextily->-r ../../requirements.txt (line 2)) (2.2.0)\n",
      "Requirement already satisfied: rasterio in /home/vscode/.local/lib/python3.10/site-packages (from contextily->-r ../../requirements.txt (line 2)) (1.3.2)\n",
      "Requirement already satisfied: mercantile in /home/vscode/.local/lib/python3.10/site-packages (from contextily->-r ../../requirements.txt (line 2)) (1.2.1)\n",
      "Requirement already satisfied: xyzservices in /home/vscode/.local/lib/python3.10/site-packages (from contextily->-r ../../requirements.txt (line 2)) (2022.6.0)\n",
      "Requirement already satisfied: joblib in /home/vscode/.local/lib/python3.10/site-packages (from contextily->-r ../../requirements.txt (line 2)) (1.1.0)\n",
      "Requirement already satisfied: requests in /home/vscode/.local/lib/python3.10/site-packages (from contextily->-r ../../requirements.txt (line 2)) (2.28.1)\n",
      "Requirement already satisfied: python-dateutil>=2.4 in /home/vscode/.local/lib/python3.10/site-packages (from faker->-r ../../requirements.txt (line 3)) (2.8.2)\n",
      "Requirement already satisfied: pandas>=1.0.0 in /home/vscode/.local/lib/python3.10/site-packages (from geopandas->-r ../../requirements.txt (line 5)) (1.4.4)\n",
      "Requirement already satisfied: fiona>=1.8 in /home/vscode/.local/lib/python3.10/site-packages (from geopandas->-r ../../requirements.txt (line 5)) (1.8.21)\n",
      "Requirement already satisfied: pyproj>=2.6.1.post1 in /home/vscode/.local/lib/python3.10/site-packages (from geopandas->-r ../../requirements.txt (line 5)) (3.4.0)\n",
      "Requirement already satisfied: shapely<2,>=1.7 in /home/vscode/.local/lib/python3.10/site-packages (from geopandas->-r ../../requirements.txt (line 5)) (1.8.4)\n",
      "Requirement already satisfied: packaging in /home/vscode/.local/lib/python3.10/site-packages (from geopandas->-r ../../requirements.txt (line 5)) (21.3)\n",
      "Requirement already satisfied: cycler>=0.10 in /home/vscode/.local/lib/python3.10/site-packages (from matplotlib->-r ../../requirements.txt (line 7)) (0.11.0)\n",
      "Requirement already satisfied: kiwisolver>=1.0.1 in /home/vscode/.local/lib/python3.10/site-packages (from matplotlib->-r ../../requirements.txt (line 7)) (1.4.4)\n",
      "Requirement already satisfied: numpy>=1.17 in /home/vscode/.local/lib/python3.10/site-packages (from matplotlib->-r ../../requirements.txt (line 7)) (1.23.3)\n",
      "Requirement already satisfied: pyparsing>=2.2.1 in /home/vscode/.local/lib/python3.10/site-packages (from matplotlib->-r ../../requirements.txt (line 7)) (3.0.9)\n",
      "Requirement already satisfied: fonttools>=4.22.0 in /home/vscode/.local/lib/python3.10/site-packages (from matplotlib->-r ../../requirements.txt (line 7)) (4.37.2)\n",
      "Requirement already satisfied: click-plugins>=1.0 in /home/vscode/.local/lib/python3.10/site-packages (from fiona>=1.8->geopandas->-r ../../requirements.txt (line 5)) (1.1.1)\n",
      "Requirement already satisfied: click>=4.0 in /home/vscode/.local/lib/python3.10/site-packages (from fiona>=1.8->geopandas->-r ../../requirements.txt (line 5)) (8.1.3)\n",
      "Requirement already satisfied: munch in /home/vscode/.local/lib/python3.10/site-packages (from fiona>=1.8->geopandas->-r ../../requirements.txt (line 5)) (2.5.0)\n",
      "Requirement already satisfied: setuptools in /usr/local/lib/python3.10/site-packages (from fiona>=1.8->geopandas->-r ../../requirements.txt (line 5)) (63.2.0)\n",
      "Requirement already satisfied: six>=1.7 in /home/vscode/.local/lib/python3.10/site-packages (from fiona>=1.8->geopandas->-r ../../requirements.txt (line 5)) (1.16.0)\n",
      "Requirement already satisfied: certifi in /home/vscode/.local/lib/python3.10/site-packages (from fiona>=1.8->geopandas->-r ../../requirements.txt (line 5)) (2022.9.14)\n",
      "Requirement already satisfied: cligj>=0.5 in /home/vscode/.local/lib/python3.10/site-packages (from fiona>=1.8->geopandas->-r ../../requirements.txt (line 5)) (0.7.2)\n",
      "Requirement already satisfied: pytz>=2020.1 in /home/vscode/.local/lib/python3.10/site-packages (from pandas>=1.0.0->geopandas->-r ../../requirements.txt (line 5)) (2022.2.1)\n",
      "Requirement already satisfied: idna>=2.0 in /home/vscode/.local/lib/python3.10/site-packages (from yarl<2.0,>=1.0->aiohttp->-r ../../requirements.txt (line 1)) (3.4)\n",
      "Requirement already satisfied: geographiclib<2,>=1.49 in /home/vscode/.local/lib/python3.10/site-packages (from geopy->contextily->-r ../../requirements.txt (line 2)) (1.52)\n",
      "Requirement already satisfied: affine in /home/vscode/.local/lib/python3.10/site-packages (from rasterio->contextily->-r ../../requirements.txt (line 2)) (2.3.1)\n",
      "Requirement already satisfied: snuggs>=1.4.1 in /home/vscode/.local/lib/python3.10/site-packages (from rasterio->contextily->-r ../../requirements.txt (line 2)) (1.4.7)\n",
      "Requirement already satisfied: urllib3<1.27,>=1.21.1 in /home/vscode/.local/lib/python3.10/site-packages (from requests->contextily->-r ../../requirements.txt (line 2)) (1.26.12)\n",
      "\n",
      "\u001b[1m[\u001b[0m\u001b[34;49mnotice\u001b[0m\u001b[1;39;49m]\u001b[0m\u001b[39;49m A new release of pip available: \u001b[0m\u001b[31;49m22.2.1\u001b[0m\u001b[39;49m -> \u001b[0m\u001b[32;49m22.2.2\u001b[0m\n",
      "\u001b[1m[\u001b[0m\u001b[34;49mnotice\u001b[0m\u001b[1;39;49m]\u001b[0m\u001b[39;49m To update, run: \u001b[0m\u001b[32;49mpip install --upgrade pip\u001b[0m\n",
      "Note: you may need to restart the kernel to use updated packages.\n"
     ]
    }
   ],
   "source": [
    "%pip install -r ../../requirements.txt"
   ]
  },
  {
   "cell_type": "code",
   "execution_count": 16,
   "metadata": {},
   "outputs": [],
   "source": [
    "import geopandas as gpd\n",
    "import pandas as pd"
   ]
  },
  {
   "cell_type": "code",
   "execution_count": 17,
   "metadata": {},
   "outputs": [],
   "source": [
    "telemetry_df = pd.read_csv('../../telemetry/telemetry.csv')\n",
    "telemetry_gdf = gpd.GeoDataFrame(telemetry_df, geometry=gpd.GeoSeries.from_xy(telemetry_df['lng'], telemetry_df['lat'], crs=4326))"
   ]
  },
  {
   "cell_type": "code",
   "execution_count": 18,
   "metadata": {},
   "outputs": [],
   "source": [
    "telemetry_gdf = telemetry_gdf.to_crs(epsg=27700)"
   ]
  },
  {
   "cell_type": "code",
   "execution_count": 19,
   "metadata": {},
   "outputs": [],
   "source": [
    "telemetry_gdf['x'] = telemetry_gdf['geometry'].apply(lambda g: g.x)\n",
    "telemetry_gdf['y'] = telemetry_gdf['geometry'].apply(lambda g: g.y)\n",
    "telemetry_gdf.drop(columns=['geometry']).to_csv('../../telemetry/telemetry.csv', header=True, index=False)"
   ]
  }
 ],
 "metadata": {
  "kernelspec": {
   "display_name": "Python 3.10.6 64-bit",
   "language": "python",
   "name": "python3"
  },
  "language_info": {
   "name": "python",
   "version": "3.10.6"
  },
  "orig_nbformat": 4,
  "vscode": {
   "interpreter": {
    "hash": "949777d72b0d2535278d3dc13498b2535136f6dfe0678499012e853ee9abcab1"
   }
  }
 },
 "nbformat": 4,
 "nbformat_minor": 2
}
